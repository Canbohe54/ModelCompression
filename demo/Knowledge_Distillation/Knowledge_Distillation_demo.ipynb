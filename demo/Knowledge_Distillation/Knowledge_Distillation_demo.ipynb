{
 "cells": [
  {
   "cell_type": "code",
   "execution_count": 25,
   "metadata": {
    "collapsed": true
   },
   "outputs": [],
   "source": [
    "import torch\n",
    "import torchvision\n",
    "import torchvision.transforms as transforms\n",
    "import torchvision.models as torch_models\n",
    "import torch.nn as nn\n",
    "import torchsummary\n",
    "import os\n",
    "import numpy as np\n",
    "import PIL\n",
    "from PIL import Image\n",
    "import itertools\n",
    "import matplotlib.pyplot as plt\n",
    "import torch.utils.data as tdata\n",
    "import time\n",
    "from tqdm import tqdm"
   ]
  },
  {
   "cell_type": "markdown",
   "source": [
    "# 使用知识蒸馏进行模型压缩"
   ],
   "metadata": {
    "collapsed": false
   }
  },
  {
   "cell_type": "markdown",
   "source": [
    "## 1. 设定参数部分\n",
    "（给了默认参数）"
   ],
   "metadata": {
    "collapsed": false
   }
  },
  {
   "cell_type": "markdown",
   "source": [
    "### 1.1 设定数据集"
   ],
   "metadata": {
    "collapsed": false
   }
  },
  {
   "cell_type": "code",
   "execution_count": 26,
   "outputs": [],
   "source": [
    "# 设定数据集\n",
    "isCustomDataset = False #是否为自引入数据集\n",
    "# 自引入数据集类型，demo暂时只支持标签为文件夹名的图片数据集\n",
    "customData_type = 'label/img'\n",
    "custom_train_data_path = ''\n",
    "custom_test_data_path = ''\n",
    "\n",
    "torchDataset = torchvision.datasets.ImageNet #指定pytorch官方打包的数据集,customDataset为True时不可用\n",
    "# 默认数据集为ImageNet"
   ],
   "metadata": {
    "collapsed": false
   }
  },
  {
   "cell_type": "markdown",
   "source": [
    "### 1.2 设置教师网络"
   ],
   "metadata": {
    "collapsed": false
   }
  },
  {
   "cell_type": "code",
   "execution_count": 27,
   "outputs": [],
   "source": [
    "teacher_model_path = 'teacher_model/resnet50-0676ba61.pth'\n",
    "# 默认使用torchvision自带的restnet50\n",
    "# torchvision支持了其自带的模型类，不需要额外引入\n",
    "# 若采用自定义教师模型，需要引入自定义模型类，例如\n",
    "# from util.models import CnnNet_mnist_16_32_64"
   ],
   "metadata": {
    "collapsed": false
   }
  },
  {
   "cell_type": "markdown",
   "source": [
    "### 1.3 设置学生网络与蒸馏参数"
   ],
   "metadata": {
    "collapsed": false
   }
  },
  {
   "cell_type": "code",
   "execution_count": 28,
   "outputs": [],
   "source": [
    "# 若采用自定义学生模型，需要引入自定义模型类，例如\n",
    "# from util.models import CnnNet_mnist_4_8\n",
    "\n",
    "student_model = torch_models.mobilenet_v2()\n",
    "# 默认采用mobilenet_v2"
   ],
   "metadata": {
    "collapsed": false
   }
  },
  {
   "cell_type": "markdown",
   "source": [
    "初始化"
   ],
   "metadata": {
    "collapsed": false
   }
  },
  {
   "cell_type": "code",
   "execution_count": 28,
   "outputs": [],
   "source": [],
   "metadata": {
    "collapsed": false
   }
  }
 ],
 "metadata": {
  "kernelspec": {
   "display_name": "Python 3",
   "language": "python",
   "name": "python3"
  },
  "language_info": {
   "codemirror_mode": {
    "name": "ipython",
    "version": 2
   },
   "file_extension": ".py",
   "mimetype": "text/x-python",
   "name": "python",
   "nbconvert_exporter": "python",
   "pygments_lexer": "ipython2",
   "version": "2.7.6"
  }
 },
 "nbformat": 4,
 "nbformat_minor": 0
}
